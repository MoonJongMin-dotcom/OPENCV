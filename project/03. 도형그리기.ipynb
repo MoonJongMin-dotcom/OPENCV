{
 "cells": [
  {
   "cell_type": "code",
   "execution_count": 7,
   "id": "c82a41e1",
   "metadata": {},
   "outputs": [],
   "source": [
    "# 도형그리기\n",
    "import cv2 \n",
    "import numpy as np\n",
    "\n",
    "# 세로 가로 480 x 640, 3channel (RGB)\n",
    "img = np.zeros((480, 640, 3), dtype=np.uint8)\n",
    "img[:] = (255,255,255) # 255,255,255 흰색 순서 BGR\n",
    "#print(img)\n",
    "cv2.imshow('img', img)\n",
    "cv2.waitKey(0)\n",
    "cv2.destroyAllWindows()"
   ]
  },
  {
   "cell_type": "code",
   "execution_count": 8,
   "id": "9572d088",
   "metadata": {},
   "outputs": [],
   "source": [
    "#  일부영역 색칠 \n",
    "import cv2 \n",
    "import numpy as np\n",
    "\n",
    "# 세로 가로 480 x 640, 3channel (RGB)\n",
    "img = np.zeros((480, 640, 3), dtype=np.uint8)\n",
    "img[100:200, 200:300] = (255,255,255) # 255,255,255 흰색 순서 BGR\n",
    "#print(img)\n",
    "cv2.imshow('img', img)\n",
    "cv2.waitKey(0)\n",
    "cv2.destroyAllWindows()"
   ]
  },
  {
   "cell_type": "code",
   "execution_count": 14,
   "id": "20de96e3",
   "metadata": {},
   "outputs": [],
   "source": [
    "# 직선 \n",
    "# cv2.LINE_4 : 4방향\n",
    "# cv2.LINE_8 : 대각선포함 8방향\n",
    "# cv2.LINE_AA: 부드러운선\n",
    "\n",
    "import cv2\n",
    "import numpy as np\n",
    "\n",
    "img = np.zeros((480, 640, 3), dtype=np.uint8)\n",
    "\n",
    "COLOR = (0, 255, 255)\n",
    "THICKNESS = 3 \n",
    "\n",
    "cv2.line(img, (50, 100), (400, 50), COLOR, THICKNESS, cv2.LINE_8)\n",
    "cv2.line(img, (200, 100), (400,1000), COLOR, THICKNESS, cv2.LINE_4)\n",
    "cv2.line(img, (300, 100), (400, 150), COLOR, THICKNESS, cv2.LINE_AA)\n",
    "\n",
    "\n",
    "cv2.imshow('img', img)\n",
    "cv2.waitKey(0)\n",
    "cv2.destroyAllWindows()"
   ]
  },
  {
   "cell_type": "code",
   "execution_count": 20,
   "id": "e02c5aae",
   "metadata": {},
   "outputs": [],
   "source": [
    "# 원\n",
    "\n",
    "import cv2\n",
    "import numpy as np\n",
    "\n",
    "img = np.zeros((480, 640, 3), dtype=np.uint8)\n",
    "\n",
    "COLOR = (255, 255, 0)\n",
    "RADIUS = 50\n",
    "THICKNESS = 10\n",
    "\n",
    "cv2.circle(img, (200, 100), RADIUS, COLOR, THICKNESS, cv2.LINE_AA)\n",
    "cv2.circle(img, (400, 100), RADIUS, COLOR, cv2.FILLED, cv2.LINE_AA)\n",
    "\n",
    "\n",
    "cv2.imshow('img', img)\n",
    "cv2.waitKey(0)\n",
    "cv2.destroyAllWindows()"
   ]
  },
  {
   "cell_type": "code",
   "execution_count": 23,
   "id": "eae6e1ad",
   "metadata": {},
   "outputs": [],
   "source": [
    "#  사각형 \n",
    "\n",
    "import cv2\n",
    "import numpy as np\n",
    "\n",
    "img = np.zeros((480, 640, 3), dtype=np.uint8)\n",
    "\n",
    "COLOR = (0, 255, 0)\n",
    "THICKNESS = 10\n",
    "\n",
    "cv2.rectangle(img, (100,100), (200, 200), COLOR, THICKNESS)\n",
    "\n",
    "cv2.rectangle(img, (300,100), (400, 300), COLOR, cv2.FILLED)\n",
    "\n",
    "\n",
    "\n",
    "cv2.imshow('img', img)\n",
    "cv2.waitKey(0)\n",
    "cv2.destroyAllWindows()"
   ]
  },
  {
   "cell_type": "code",
   "execution_count": 32,
   "id": "97e70dc5",
   "metadata": {},
   "outputs": [],
   "source": [
    "# 다각형 \n",
    "\n",
    "import cv2\n",
    "import numpy as np\n",
    "\n",
    "img = np.zeros((480, 640, 3), dtype=np.uint8)\n",
    "\n",
    "COLOR = (0, 0, 255)\n",
    "THICKNESS = 3\n",
    "\n",
    "pts1 = np.array([[100,100], [200,100], [100, 200]])\n",
    "\n",
    "pts2 = np.array([[200,100], [300,100], [300, 200]])\n",
    "\n",
    "\n",
    "# cv2.polylines(img, [pts1], False, COLOR, THICKNESS, cv2.LINE_AA)\n",
    "# cv2.polylines(img, [pts2], False, COLOR, THICKNESS, cv2.LINE_AA)\n",
    "cv2.polylines(img, [pts1, pts2], False, COLOR, THICKNESS, cv2.LINE_AA)\n",
    "\n",
    "pts3 = np.array([[[100,300], [200, 300], [300, 400]], [[400, 100], [500, 300], [600, 400]]])\n",
    "cv2.fillPoly(img, pts3, COLOR, cv2.LINE_AA)\n",
    "    \n",
    "    \n",
    "cv2.imshow('img', img)\n",
    "cv2.waitKey(0)\n",
    "cv2.destroyAllWindows()"
   ]
  }
 ],
 "metadata": {
  "kernelspec": {
   "display_name": "Python 3 (ipykernel)",
   "language": "python",
   "name": "python3"
  },
  "language_info": {
   "codemirror_mode": {
    "name": "ipython",
    "version": 3
   },
   "file_extension": ".py",
   "mimetype": "text/x-python",
   "name": "python",
   "nbconvert_exporter": "python",
   "pygments_lexer": "ipython3",
   "version": "3.8.13"
  }
 },
 "nbformat": 4,
 "nbformat_minor": 5
}
