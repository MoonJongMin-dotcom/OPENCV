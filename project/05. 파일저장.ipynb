{
 "cells": [
  {
   "cell_type": "code",
   "execution_count": 3,
   "id": "28e05c3d",
   "metadata": {},
   "outputs": [
    {
     "name": "stdout",
     "output_type": "stream",
     "text": [
      "True\n"
     ]
    }
   ],
   "source": [
    "# 파일저장 \n",
    "\n",
    "import cv2 \n",
    "\n",
    "img_color = cv2.imread('cat.jpg', cv2.IMREAD_COLOR)\n",
    "#img_gray = cv2.imread('cat.jpg', cv2.IMREAD_GRAYSCALE)\n",
    "#img_unchanged = cv2.imread('cat.jpg', cv2.IMREAD_UNCHANGED)\n",
    "\n",
    "cv2.imshow('img_color', img_color)\n",
    "#cv2.imshow('img_gray', img_gray)\n",
    "#cv2.imshow('img_uncahnged', img_unchanged)\n",
    "\n",
    "cv2.waitKey(0)\n",
    "cv2.destroyAllWindows()\n",
    "\n",
    "result = cv2.imwrite('img_save.jpg', img_color)\n",
    "print(result)"
   ]
  },
  {
   "cell_type": "code",
   "execution_count": null,
   "id": "8ca770b7",
   "metadata": {},
   "outputs": [],
   "source": [
    "# 두줄로 저장 가능 png는 뒤에 .png\n",
    "img_color = cv2.imread('cat.jpg', cv2.IMREAD_COLOR)\n",
    "cv2.imwrite('img_save.jpg', img)"
   ]
  },
  {
   "cell_type": "code",
   "execution_count": 3,
   "id": "7952b6e5",
   "metadata": {},
   "outputs": [],
   "source": [
    "# 동영상 저장 \n",
    "\n",
    "import cv2 \n",
    "\n",
    "cap = cv2.VideoCapture('pika.gif')\n",
    "\n",
    "fourcc = cv2.VideoWriter_fourcc(*'DIVX')\n",
    "\n",
    "width = round(cap.get(cv2.CAP_PROP_FRAME_WIDTH))\n",
    "height = round(cap.get(cv2.CAP_PROP_FRAME_HEIGHT))\n",
    "fps = cap.get(cv2.CAP_PROP_FPS) # *2(2배) , *3 (3배) 저장시\n",
    "\n",
    "out = cv2.VideoWriter('output.avi', fourcc, fps,(width, height))\n",
    "\n",
    "\n",
    "while cap.isOpened():\n",
    "    ret, frame = cap.read()\n",
    "    \n",
    "    if not ret:\n",
    "        break\n",
    "        \n",
    "    \n",
    "    out.write(frame) \n",
    "    cv2.imshow('gif', frame)\n",
    "    if cv2.waitKey(100) == ord('q'):\n",
    "        break\n",
    "    \n",
    "out.release()        \n",
    "cap.release()\n",
    "cv2.destroyAllWindows()"
   ]
  }
 ],
 "metadata": {
  "kernelspec": {
   "display_name": "Python 3 (ipykernel)",
   "language": "python",
   "name": "python3"
  },
  "language_info": {
   "codemirror_mode": {
    "name": "ipython",
    "version": 3
   },
   "file_extension": ".py",
   "mimetype": "text/x-python",
   "name": "python",
   "nbconvert_exporter": "python",
   "pygments_lexer": "ipython3",
   "version": "3.8.13"
  }
 },
 "nbformat": 4,
 "nbformat_minor": 5
}
