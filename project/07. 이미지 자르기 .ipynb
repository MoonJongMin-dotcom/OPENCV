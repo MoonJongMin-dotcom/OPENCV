{
 "cells": [
  {
   "cell_type": "code",
   "execution_count": 7,
   "id": "c7644b63",
   "metadata": {},
   "outputs": [],
   "source": [
    "# 이미지 자르기 \n",
    "\n",
    "import cv2 \n",
    "\n",
    "img = cv2.imread('cat.jpg')\n",
    "# img.shape (427, 640, 3)\n",
    "\n",
    "crop = img[100:280, 200:420] \n",
    "\n",
    "cv2.imshow('img', img)\n",
    "cv2.imshow('crop', crop)\n",
    "\n",
    "cv2.waitKey(0)\n",
    "cv2.destroyAllWindows()"
   ]
  },
  {
   "cell_type": "code",
   "execution_count": 12,
   "id": "5c4c5d82",
   "metadata": {},
   "outputs": [],
   "source": [
    "# 기존 이미지에서 하는거\n",
    "\n",
    "import cv2 \n",
    "\n",
    "img = cv2.imread('cat.jpg')\n",
    "\n",
    "crop = img[100:280, 200:420] \n",
    "crop2 = img[100:280, 200:420]\n",
    "img[100:280, 420:640] = crop\n",
    "img[100:280, 0:220] = crop2\n",
    "\n",
    "\n",
    "cv2.imshow('img', img)\n",
    "cv2.waitKey(0)\n",
    "cv2.destroyAllWindows()"
   ]
  }
 ],
 "metadata": {
  "kernelspec": {
   "display_name": "Python 3 (ipykernel)",
   "language": "python",
   "name": "python3"
  },
  "language_info": {
   "codemirror_mode": {
    "name": "ipython",
    "version": 3
   },
   "file_extension": ".py",
   "mimetype": "text/x-python",
   "name": "python",
   "nbconvert_exporter": "python",
   "pygments_lexer": "ipython3",
   "version": "3.8.13"
  }
 },
 "nbformat": 4,
 "nbformat_minor": 5
}
