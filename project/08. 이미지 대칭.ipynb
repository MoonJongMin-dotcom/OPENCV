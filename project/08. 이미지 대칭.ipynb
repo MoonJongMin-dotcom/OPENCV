{
 "cells": [
  {
   "cell_type": "code",
   "execution_count": 1,
   "id": "d00b6502",
   "metadata": {},
   "outputs": [],
   "source": [
    "# 좌우대칭 \n",
    "\n",
    "import cv2 \n",
    "img = cv2.imread('cat.jpg')\n",
    "flip_herizontal = cv2.flip(img, 1) # flipCode > 0 : 좌우대칭 \n",
    "\n",
    "cv2.imshow('img', img)\n",
    "cv2.imshow('flip_horizontal',flip_herizontal )\n",
    "\n",
    "cv2.waitKey(0)\n",
    "cv2.destroyAllWindows()"
   ]
  },
  {
   "cell_type": "code",
   "execution_count": 3,
   "id": "4c2aaa5e",
   "metadata": {},
   "outputs": [],
   "source": [
    "# 상하대칭 \n",
    "\n",
    "import cv2 \n",
    "img = cv2.imread('cat.jpg')\n",
    "flip_vertical = cv2.flip(img, 0) # flipCode = 0 : 상하대칭 \n",
    "\n",
    "cv2.imshow('img', img)\n",
    "cv2.imshow('flip_vertical',flip_vertical)\n",
    "\n",
    "cv2.waitKey(0)\n",
    "cv2.destroyAllWindows()"
   ]
  },
  {
   "cell_type": "code",
   "execution_count": 4,
   "id": "743d9af0",
   "metadata": {},
   "outputs": [],
   "source": [
    "# 상하좌우대칭 \n",
    "\n",
    "import cv2 \n",
    "img = cv2.imread('cat.jpg')\n",
    "flip_both = cv2.flip(img, -1) # flipCode < 0 : 상하좌우대칭 \n",
    "\n",
    "cv2.imshow('img', img)\n",
    "cv2.imshow('flip_both',flip_both)\n",
    "\n",
    "cv2.waitKey(0)\n",
    "cv2.destroyAllWindows()"
   ]
  }
 ],
 "metadata": {
  "kernelspec": {
   "display_name": "Python 3 (ipykernel)",
   "language": "python",
   "name": "python3"
  },
  "language_info": {
   "codemirror_mode": {
    "name": "ipython",
    "version": 3
   },
   "file_extension": ".py",
   "mimetype": "text/x-python",
   "name": "python",
   "nbconvert_exporter": "python",
   "pygments_lexer": "ipython3",
   "version": "3.8.13"
  }
 },
 "nbformat": 4,
 "nbformat_minor": 5
}
