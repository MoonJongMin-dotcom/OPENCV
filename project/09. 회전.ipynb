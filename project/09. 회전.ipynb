{
 "cells": [
  {
   "cell_type": "code",
   "execution_count": 3,
   "id": "b268d004",
   "metadata": {},
   "outputs": [],
   "source": [
    "# 회전  90도\n",
    "\n",
    "import cv2 \n",
    "img = cv2.imread('cat.jpg')\n",
    "\n",
    "rotate_90 = cv2.rotate(img, cv2.ROTATE_90_CLOCKWISE) # 시계방향 90도 회전\n",
    "\n",
    "\n",
    "cv2.imshow('img', img)\n",
    "cv2.imshow('ritate', rotate_90)\n",
    "cv2.waitKey(0)\n",
    "cv2.destroyAllWindows()"
   ]
  },
  {
   "cell_type": "code",
   "execution_count": 4,
   "id": "07cde10e",
   "metadata": {},
   "outputs": [],
   "source": [
    "# 회전  180\n",
    "\n",
    "import cv2 \n",
    "img = cv2.imread('cat.jpg')\n",
    "\n",
    "rotate_180 = cv2.rotate(img, cv2.ROTATE_180) # 시계방향 90도 회전\n",
    "\n",
    "\n",
    "cv2.imshow('img', img)\n",
    "cv2.imshow('ritate', rotate_180)\n",
    "cv2.waitKey(0)\n",
    "cv2.destroyAllWindows()"
   ]
  },
  {
   "cell_type": "code",
   "execution_count": 5,
   "id": "1a6bf774",
   "metadata": {},
   "outputs": [],
   "source": [
    "# 회전 270\n",
    "\n",
    "import cv2 \n",
    "img = cv2.imread('cat.jpg')\n",
    "\n",
    "rotate_270 = cv2.rotate(img, cv2.ROTATE_90_COUNTERCLOCKWISE) # 시계방향 90도 회전\n",
    "\n",
    "\n",
    "cv2.imshow('img', img)\n",
    "cv2.imshow('ritate', rotate_270)\n",
    "cv2.waitKey(0)\n",
    "cv2.destroyAllWindows()"
   ]
  }
 ],
 "metadata": {
  "kernelspec": {
   "display_name": "Python 3 (ipykernel)",
   "language": "python",
   "name": "python3"
  },
  "language_info": {
   "codemirror_mode": {
    "name": "ipython",
    "version": 3
   },
   "file_extension": ".py",
   "mimetype": "text/x-python",
   "name": "python",
   "nbconvert_exporter": "python",
   "pygments_lexer": "ipython3",
   "version": "3.8.13"
  }
 },
 "nbformat": 4,
 "nbformat_minor": 5
}
