{
 "cells": [
  {
   "cell_type": "code",
   "execution_count": 6,
   "id": "20b043f3",
   "metadata": {},
   "outputs": [
    {
     "name": "stdout",
     "output_type": "stream",
     "text": [
      "사용자 입력에 읳 종료 됩니다\n"
     ]
    }
   ],
   "source": [
    "# 동영상 출력\n",
    "import cv2\n",
    "cap = cv2.VideoCapture('pika.gif')\n",
    "\n",
    "while cap.isOpened(): # 동영상이 열렸는지\n",
    "    ret, frame = cap.read() # ret: 성공 여부, frame : 받아온 이미지(프레임)\n",
    "    if not ret:\n",
    "        print(\"더 이상 가져올 프레임이 없어요\")\n",
    "        break\n",
    "        \n",
    "    cv2.imshow('gif', frame)\n",
    "    \n",
    "    #사용자가 원하는 ㄱ키를 누르면 자동으로 탈출\n",
    "    if cv2.waitKey(100) == ord('q'): # Key안에 숫자 = 속도 제어\n",
    "        print('사용자 입력에 의해 종료 됩니다')\n",
    "        break\n",
    "\n",
    "cap.release()  # 자원해제\n",
    "cv2.destroyAllWindows() # 모든창 닫기"
   ]
  },
  {
   "cell_type": "code",
   "execution_count": 7,
   "id": "c345497e",
   "metadata": {},
   "outputs": [],
   "source": [
    "# 카메라 출력\n",
    "\n",
    "import cv2 \n",
    "cap = cv2.VideoCapture(0) # 0번쨰 카메라 장치(기본)\n",
    "\n",
    "if not cap.isOpened:\n",
    "    exit() # 프로그램 종료\n",
    "    \n",
    "while True:\n",
    "    ret, frame = cap.read()\n",
    "    if not ret: \n",
    "        break\n",
    "        \n",
    "    cv2.imshow('camera', frame)\n",
    "    if cv2.waitKey(1) == ord('q'):\n",
    "        break\n",
    "        \n",
    "cap.release()\n",
    "cv2.destroyAllWindows()"
   ]
  },
  {
   "cell_type": "code",
   "execution_count": null,
   "id": "ebcc7b42",
   "metadata": {},
   "outputs": [],
   "source": []
  },
  {
   "cell_type": "code",
   "execution_count": null,
   "id": "206cb8e5",
   "metadata": {},
   "outputs": [],
   "source": []
  }
 ],
 "metadata": {
  "kernelspec": {
   "display_name": "Python 3 (ipykernel)",
   "language": "python",
   "name": "python3"
  },
  "language_info": {
   "codemirror_mode": {
    "name": "ipython",
    "version": 3
   },
   "file_extension": ".py",
   "mimetype": "text/x-python",
   "name": "python",
   "nbconvert_exporter": "python",
   "pygments_lexer": "ipython3",
   "version": "3.8.13"
  }
 },
 "nbformat": 4,
 "nbformat_minor": 5
}
