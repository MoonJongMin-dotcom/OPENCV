{
 "cells": [
  {
   "cell_type": "code",
   "execution_count": 3,
   "id": "a13cffc0",
   "metadata": {},
   "outputs": [],
   "source": [
    "# 이미지 \n",
    "\n",
    "import cv2 \n",
    "\n",
    "img = cv2.imread('cat.jpg')\n",
    "#dst = cv2.resize(img, (400, 500))  # 사이즈 재조정\n",
    "dst = cv2.resize(img, None, fx = 0.5, fy = 0.5) # 사이즈 비율조정\n",
    "\n",
    "cv2.imshow('img', img)\n",
    "cv2.imshow('resize', dst)\n",
    "cv2.waitKey(0)\n",
    "cv2.destroyAllWindows()"
   ]
  },
  {
   "cell_type": "code",
   "execution_count": 4,
   "id": "0da6483b",
   "metadata": {},
   "outputs": [],
   "source": [
    "# 보간법 - 이미지 크기 조정시 부드럽게 하기위해 사용 - 축소\n",
    "\n",
    "img = cv2.imread('cat.jpg')\n",
    "#dst = cv2.resize(img, (400, 500))  # 사이즈 재조정\n",
    "dst = cv2.resize(img, None, fx = 0.5, fy = 0.5, interpolation = cv2.INTER_AREA) # 사이즈 비율조정\n",
    "\n",
    "cv2.imshow('img', img)\n",
    "cv2.imshow('resize', dst)\n",
    "cv2.waitKey(0)\n",
    "cv2.destroyAllWindows()"
   ]
  },
  {
   "cell_type": "code",
   "execution_count": 6,
   "id": "439b62b9",
   "metadata": {},
   "outputs": [],
   "source": [
    "# 보간법 - 이미지 크기 조정시 부드럽게 하기위해 사용 - 확대\n",
    "\n",
    "img = cv2.imread('cat.jpg')\n",
    "#dst = cv2.resize(img, (400, 500))  # 사이즈 재조정\n",
    "dst = cv2.resize(img, None, fx = 2, fy = 2, interpolation = cv2.INTER_CUBIC) # 사이즈 비율조정\n",
    "\n",
    "cv2.imshow('img', img)\n",
    "cv2.imshow('resize', dst)\n",
    "cv2.waitKey(0)\n",
    "cv2.destroyAllWindows()"
   ]
  },
  {
   "cell_type": "code",
   "execution_count": 8,
   "id": "c792d231",
   "metadata": {},
   "outputs": [
    {
     "name": "stdout",
     "output_type": "stream",
     "text": [
      "사용자 입력에 의해 종료 됩니다\n"
     ]
    }
   ],
   "source": [
    "# 동영상 고정크기 \n",
    "\n",
    "# 동영상 출력\n",
    "import cv2\n",
    "cap = cv2.VideoCapture('pika.gif')\n",
    "\n",
    "while cap.isOpened(): # 동영상이 열렸는지\n",
    "    ret, frame = cap.read() # ret: 성공 여부, frame : 받아온 이미지(프레임)\n",
    "    if not ret:\n",
    "        print(\"더 이상 가져올 프레임이 없어요\")\n",
    "        break\n",
    "        \n",
    "    frame_resized = cv2.resize(frame, (400,500))\n",
    "        \n",
    "    cv2.imshow('gif', frame_resized)\n",
    "    \n",
    "    #사용자가 원하는 ㄱ키를 누르면 자동으로 탈출\n",
    "    if cv2.waitKey(100) == ord('q'): # Key안에 숫자 = 속도 제어\n",
    "        print('사용자 입력에 의해 종료 됩니다')\n",
    "        break\n",
    "\n",
    "cap.release()  # 자원해제\n",
    "cv2.destroyAllWindows() # 모든창 닫기"
   ]
  },
  {
   "cell_type": "code",
   "execution_count": 9,
   "id": "306a36ed",
   "metadata": {},
   "outputs": [
    {
     "name": "stdout",
     "output_type": "stream",
     "text": [
      "사용자 입력에 의해 종료 됩니다\n"
     ]
    }
   ],
   "source": [
    "# 동영상 비율 \n",
    "\n",
    "# 동영상 출력\n",
    "import cv2\n",
    "cap = cv2.VideoCapture('pika.gif')\n",
    "\n",
    "while cap.isOpened(): # 동영상이 열렸는지\n",
    "    ret, frame = cap.read() # ret: 성공 여부, frame : 받아온 이미지(프레임)\n",
    "    if not ret:\n",
    "        print(\"더 이상 가져올 프레임이 없어요\")\n",
    "        break\n",
    "        \n",
    "    frame_resized = cv2.resize(frame, None, fx = 2, fy = 2,interpolation = cv2.INTER_CUBIC) \n",
    "        \n",
    "    cv2.imshow('gif', frame_resized)\n",
    "    \n",
    "    #사용자가 원하는 ㄱ키를 누르면 자동으로 탈출\n",
    "    if cv2.waitKey(100) == ord('q'): # Key안에 숫자 = 속도 제어\n",
    "        print('사용자 입력에 의해 종료 됩니다')\n",
    "        break\n",
    "\n",
    "cap.release()  # 자원해제\n",
    "cv2.destroyAllWindows() # 모든창 닫기"
   ]
  }
 ],
 "metadata": {
  "kernelspec": {
   "display_name": "Python 3 (ipykernel)",
   "language": "python",
   "name": "python3"
  },
  "language_info": {
   "codemirror_mode": {
    "name": "ipython",
    "version": 3
   },
   "file_extension": ".py",
   "mimetype": "text/x-python",
   "name": "python",
   "nbconvert_exporter": "python",
   "pygments_lexer": "ipython3",
   "version": "3.8.13"
  }
 },
 "nbformat": 4,
 "nbformat_minor": 5
}
